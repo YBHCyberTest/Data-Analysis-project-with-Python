{
 "cells": [
  {
   "cell_type": "code",
   "execution_count": 101,
   "id": "19da53d8-e958-495b-8f6a-ab7e979723d2",
   "metadata": {},
   "outputs": [],
   "source": [
    "#ilişki işlemleri (correlation) ve Görselleştirme işlemleri yapabilmek için bazı işlemleri yapılmak gerekir :\n",
    "# Kurs başlığı,Kursun konusu ,Seviye sözel sutünlere ihatiuaç duymadığımz için almayeceğiz.\n",
    "# Ödenmiş kurs sutünün içerdiği değerlerin değerlerini değiştireceğiz,(Ture,false) ==(1,0) olarak değiştireceğiz.\n",
    "df['Ödenmiş kurs'] = df['Ödenmiş kurs'].astype(bool)\n",
    "df['Ödenmiş kurs'] = df['Ödenmiş kurs'].astype(int)"
   ]
  },
  {
   "cell_type": "code",
   "execution_count": 102,
   "id": "27179f4e-f750-47da-9481-47c4853ae3ca",
   "metadata": {},
   "outputs": [
    {
     "data": {
      "text/html": [
       "<div>\n",
       "<style scoped>\n",
       "    .dataframe tbody tr th:only-of-type {\n",
       "        vertical-align: middle;\n",
       "    }\n",
       "\n",
       "    .dataframe tbody tr th {\n",
       "        vertical-align: top;\n",
       "    }\n",
       "\n",
       "    .dataframe thead th {\n",
       "        text-align: right;\n",
       "    }\n",
       "</style>\n",
       "<table border=\"1\" class=\"dataframe\">\n",
       "  <thead>\n",
       "    <tr style=\"text-align: right;\">\n",
       "      <th></th>\n",
       "      <th>Kurs başlığı</th>\n",
       "      <th>Ödenmiş kurs</th>\n",
       "      <th>Fıyat</th>\n",
       "      <th>Obune sayısı</th>\n",
       "      <th>Görüntülme Sayısı</th>\n",
       "      <th>Ders Sayısı</th>\n",
       "      <th>Seviye</th>\n",
       "      <th>İçerik Süresi</th>\n",
       "      <th>yayınlanan zaman damgası</th>\n",
       "      <th>Kursun konusu</th>\n",
       "    </tr>\n",
       "  </thead>\n",
       "  <tbody>\n",
       "    <tr>\n",
       "      <th>0</th>\n",
       "      <td>#1 Piano Hand Coordination: Play 10th Ballad i...</td>\n",
       "      <td>1</td>\n",
       "      <td>35</td>\n",
       "      <td>3137</td>\n",
       "      <td>18</td>\n",
       "      <td>68</td>\n",
       "      <td>All Levels</td>\n",
       "      <td>1.5</td>\n",
       "      <td>2014-09-18 05:07:05+00:00</td>\n",
       "      <td>Musical Instruments</td>\n",
       "    </tr>\n",
       "    <tr>\n",
       "      <th>1</th>\n",
       "      <td>#10 Hand Coordination - Transfer Chord Ballad ...</td>\n",
       "      <td>1</td>\n",
       "      <td>75</td>\n",
       "      <td>1593</td>\n",
       "      <td>1</td>\n",
       "      <td>41</td>\n",
       "      <td>Intermediate Level</td>\n",
       "      <td>1.0</td>\n",
       "      <td>2017-04-12 19:06:34+00:00</td>\n",
       "      <td>Musical Instruments</td>\n",
       "    </tr>\n",
       "    <tr>\n",
       "      <th>2</th>\n",
       "      <td>#12 Hand Coordination: Let your Hands dance wi...</td>\n",
       "      <td>1</td>\n",
       "      <td>75</td>\n",
       "      <td>482</td>\n",
       "      <td>1</td>\n",
       "      <td>47</td>\n",
       "      <td>Intermediate Level</td>\n",
       "      <td>1.5</td>\n",
       "      <td>2017-04-26 18:34:57+00:00</td>\n",
       "      <td>Musical Instruments</td>\n",
       "    </tr>\n",
       "    <tr>\n",
       "      <th>3</th>\n",
       "      <td>#4 Piano Hand Coordination: Fun Piano Runs in ...</td>\n",
       "      <td>1</td>\n",
       "      <td>75</td>\n",
       "      <td>850</td>\n",
       "      <td>3</td>\n",
       "      <td>43</td>\n",
       "      <td>Intermediate Level</td>\n",
       "      <td>1.0</td>\n",
       "      <td>2017-02-21 23:48:18+00:00</td>\n",
       "      <td>Musical Instruments</td>\n",
       "    </tr>\n",
       "    <tr>\n",
       "      <th>4</th>\n",
       "      <td>#5  Piano Hand Coordination:  Piano Runs in 2 ...</td>\n",
       "      <td>1</td>\n",
       "      <td>75</td>\n",
       "      <td>940</td>\n",
       "      <td>3</td>\n",
       "      <td>32</td>\n",
       "      <td>Intermediate Level</td>\n",
       "      <td>37.0</td>\n",
       "      <td>2017-02-21 23:44:49+00:00</td>\n",
       "      <td>Musical Instruments</td>\n",
       "    </tr>\n",
       "  </tbody>\n",
       "</table>\n",
       "</div>"
      ],
      "text/plain": [
       "                                        Kurs başlığı  Ödenmiş kurs  Fıyat  \\\n",
       "0  #1 Piano Hand Coordination: Play 10th Ballad i...             1     35   \n",
       "1  #10 Hand Coordination - Transfer Chord Ballad ...             1     75   \n",
       "2  #12 Hand Coordination: Let your Hands dance wi...             1     75   \n",
       "3  #4 Piano Hand Coordination: Fun Piano Runs in ...             1     75   \n",
       "4  #5  Piano Hand Coordination:  Piano Runs in 2 ...             1     75   \n",
       "\n",
       "   Obune sayısı  Görüntülme Sayısı  Ders Sayısı              Seviye  \\\n",
       "0          3137                 18           68          All Levels   \n",
       "1          1593                  1           41  Intermediate Level   \n",
       "2           482                  1           47  Intermediate Level   \n",
       "3           850                  3           43  Intermediate Level   \n",
       "4           940                  3           32  Intermediate Level   \n",
       "\n",
       "   İçerik Süresi  yayınlanan zaman damgası        Kursun konusu  \n",
       "0            1.5 2014-09-18 05:07:05+00:00  Musical Instruments  \n",
       "1            1.0 2017-04-12 19:06:34+00:00  Musical Instruments  \n",
       "2            1.5 2017-04-26 18:34:57+00:00  Musical Instruments  \n",
       "3            1.0 2017-02-21 23:48:18+00:00  Musical Instruments  \n",
       "4           37.0 2017-02-21 23:44:49+00:00  Musical Instruments  "
      ]
     },
     "execution_count": 102,
     "metadata": {},
     "output_type": "execute_result"
    }
   ],
   "source": [
    "df.head()"
   ]
  },
  {
   "cell_type": "code",
   "execution_count": 103,
   "id": "7dc6bfd1-14fb-4c6e-9aab-0b3df96919ac",
   "metadata": {},
   "outputs": [],
   "source": [
    "#İlişki işlemleri (correlation) ve Görselleştirme işlemleri yapabilmek Kullanılması gereken kütüpaneler :\n",
    "import matplotlib\n",
    "matplotlib.use('TkAgg')\n",
    "import matplotlib.pyplot as plt\n",
    "import seaborn as sns "
   ]
  },
  {
   "cell_type": "code",
   "execution_count": 104,
   "id": "1d415a98-f683-4f51-b080-df5798c2239e",
   "metadata": {},
   "outputs": [
    {
     "data": {
      "text/html": [
       "<div>\n",
       "<style scoped>\n",
       "    .dataframe tbody tr th:only-of-type {\n",
       "        vertical-align: middle;\n",
       "    }\n",
       "\n",
       "    .dataframe tbody tr th {\n",
       "        vertical-align: top;\n",
       "    }\n",
       "\n",
       "    .dataframe thead th {\n",
       "        text-align: right;\n",
       "    }\n",
       "</style>\n",
       "<table border=\"1\" class=\"dataframe\">\n",
       "  <thead>\n",
       "    <tr style=\"text-align: right;\">\n",
       "      <th></th>\n",
       "      <th>Ödenmiş kurs</th>\n",
       "      <th>Fıyat</th>\n",
       "      <th>Obune sayısı</th>\n",
       "      <th>Görüntülme Sayısı</th>\n",
       "      <th>Ders Sayısı</th>\n",
       "      <th>İçerik Süresi</th>\n",
       "    </tr>\n",
       "  </thead>\n",
       "  <tbody>\n",
       "    <tr>\n",
       "      <th>Ödenmiş kurs</th>\n",
       "      <td>1.000000</td>\n",
       "      <td>0.328239</td>\n",
       "      <td>-0.266227</td>\n",
       "      <td>-0.087519</td>\n",
       "      <td>0.112267</td>\n",
       "      <td>-0.025886</td>\n",
       "    </tr>\n",
       "    <tr>\n",
       "      <th>Fıyat</th>\n",
       "      <td>0.328239</td>\n",
       "      <td>1.000000</td>\n",
       "      <td>0.050939</td>\n",
       "      <td>0.113778</td>\n",
       "      <td>0.330495</td>\n",
       "      <td>0.014374</td>\n",
       "    </tr>\n",
       "    <tr>\n",
       "      <th>Obune sayısı</th>\n",
       "      <td>-0.266227</td>\n",
       "      <td>0.050939</td>\n",
       "      <td>1.000000</td>\n",
       "      <td>0.649957</td>\n",
       "      <td>0.157929</td>\n",
       "      <td>0.034981</td>\n",
       "    </tr>\n",
       "    <tr>\n",
       "      <th>Görüntülme Sayısı</th>\n",
       "      <td>-0.087519</td>\n",
       "      <td>0.113778</td>\n",
       "      <td>0.649957</td>\n",
       "      <td>1.000000</td>\n",
       "      <td>0.243083</td>\n",
       "      <td>0.086585</td>\n",
       "    </tr>\n",
       "    <tr>\n",
       "      <th>Ders Sayısı</th>\n",
       "      <td>0.112267</td>\n",
       "      <td>0.330495</td>\n",
       "      <td>0.157929</td>\n",
       "      <td>0.243083</td>\n",
       "      <td>1.000000</td>\n",
       "      <td>0.256564</td>\n",
       "    </tr>\n",
       "    <tr>\n",
       "      <th>İçerik Süresi</th>\n",
       "      <td>-0.025886</td>\n",
       "      <td>0.014374</td>\n",
       "      <td>0.034981</td>\n",
       "      <td>0.086585</td>\n",
       "      <td>0.256564</td>\n",
       "      <td>1.000000</td>\n",
       "    </tr>\n",
       "  </tbody>\n",
       "</table>\n",
       "</div>"
      ],
      "text/plain": [
       "                   Ödenmiş kurs     Fıyat  Obune sayısı  Görüntülme Sayısı  \\\n",
       "Ödenmiş kurs           1.000000  0.328239     -0.266227          -0.087519   \n",
       "Fıyat                  0.328239  1.000000      0.050939           0.113778   \n",
       "Obune sayısı          -0.266227  0.050939      1.000000           0.649957   \n",
       "Görüntülme Sayısı     -0.087519  0.113778      0.649957           1.000000   \n",
       "Ders Sayısı            0.112267  0.330495      0.157929           0.243083   \n",
       "İçerik Süresi         -0.025886  0.014374      0.034981           0.086585   \n",
       "\n",
       "                   Ders Sayısı  İçerik Süresi  \n",
       "Ödenmiş kurs          0.112267      -0.025886  \n",
       "Fıyat                 0.330495       0.014374  \n",
       "Obune sayısı          0.157929       0.034981  \n",
       "Görüntülme Sayısı     0.243083       0.086585  \n",
       "Ders Sayısı           1.000000       0.256564  \n",
       "İçerik Süresi         0.256564       1.000000  "
      ]
     },
     "execution_count": 104,
     "metadata": {},
     "output_type": "execute_result"
    }
   ],
   "source": [
    "#sutünlerin arasında korelasyonlar var bu korelasyonlar surünlerin  değerlerine göre değisir ,Değer 0.5'ten büyükse korelasyon var demektir ,küçük ise \n",
    "#korelasyon yok demektir.Eğer değer pozifse pozif korelasyon vardır(artımlı bir korelasyondur bir sutün artırsa diğer de artırır),\n",
    "#negatif ise negatif korelasyon var demekir( azalan bir korelasyondur bir sutün azalırsa diğer de azalır).\n",
    "df.corr()"
   ]
  },
  {
   "cell_type": "code",
   "execution_count": 105,
   "id": "be413a9d-2f67-4f90-8a5f-8c763bfa1bf0",
   "metadata": {},
   "outputs": [],
   "source": [
    "#Burada aynı Şey sutünlerin arasında korelasyonlar sayılar ve rneklerle ifade edilir.\n",
    "plt.title('sutünlerin arasında korelasyonlar')\n",
    "sns.heatmap(df.corr(),annot=True)\n",
    "plt.show()"
   ]
  },
  {
   "cell_type": "code",
   "execution_count": 106,
   "id": "e8b6b606-fbca-4e91-86ad-2fb276d1eed2",
   "metadata": {},
   "outputs": [],
   "source": [
    "# alt noktalar oluşturma\n",
    "fig, ax = plt.subplots(3,2)\n",
    "# alt noktalar ve plot ,bar ile verileri ayarlama\n",
    "ax[0,0].bar(df['Kursun konusu'],df['Obune sayısı'])\n",
    "ax[0,1].bar(df['Kursun konusu'],df['Ödenmiş kurs'])\n",
    "ax[1,0].bar(df['Kursun konusu'],df['Fıyat'])\n",
    "ax[1,1].bar(df['Kursun konusu'],df['Ders Sayısı'])\n",
    "ax[2,0].bar(df['Kursun konusu'],df['İçerik Süresi'])\n",
    "ax[2,1].bar(df['Kursun konusu'],df['Görüntülme Sayısı'])\n",
    "# başlığı alt noktalara ayarlama\n",
    "ax[0,0].set_title(\"Görüntülme Sayısı\")\n",
    "ax[0,1].set_title(\"Ödenmiş kurs\")\n",
    "ax[1,0].set_title(\"Fıyat\")\n",
    "ax[1,1].set_title(\"Ders Sayısı\")\n",
    "ax[2,0].set_title(\"İçerik Süresi\")\n",
    "ax[2,1].set_title(\"Görüntülme Sayısı\")\n",
    "# boşluk ayarlama\n",
    "fig.suptitle('Kursun konularındaki artma ve azılma değisikliği Gösteren göreselleştirme grafiği',fontweight =\"bold\")\n",
    "fig.tight_layout()\n",
    "plt.show()"
   ]
  },
  {
   "cell_type": "code",
   "execution_count": null,
   "id": "ddafc020-da91-499f-996d-8887d0bafd5e",
   "metadata": {},
   "outputs": [],
   "source": [
    "# alt noktalar oluşturma\n",
    "fig, ax = plt.subplots(3,2)\n",
    "# alt noktalar ve plot ,bar ile verileri ayarlama\n",
    "ax[0,0].bar(df['Yıl'],df['Görüntülme Sayısı'])\n",
    "ax[0,1].bar(df['Yıl'],df['Ödenmiş kurs'])\n",
    "ax[1,0].bar(df['Yıl'],df['Fıyat'])\n",
    "ax[1,1].bar(df['Yıl'],df['Ders Sayısı'])\n",
    "ax[2,0].bar(df['Yıl'],df['İçerik Süresi'])\n",
    "ax[2,1].bar(df['Yıl'],df['Obune sayısı'])\n",
    "# başlığı alt noktalara ayarlama-\n",
    "ax[0,0].set_title(\"Görüntülme Sayısı\")\n",
    "ax[0,1].set_title(\"Ödenmiş kurs\")\n",
    "ax[1,0].set_title(\"Fıyat\")\n",
    "ax[1,1].set_title(\"Ders Sayısı\")\n",
    "ax[2,0].set_title(\"İçerik Süresi\")\n",
    "ax[2,1].set_title(\"Obune sayısı\")\n",
    "# boşluk ayarlama\n",
    "fig.suptitle('Sayısıl değerlere sahip sutünlerin değerlerinin Yıllara Göre artması ve azılması',fontweight =\"bold\")\n",
    "fig.tight_layout()\n",
    "plt.show()"
   ]
  },
  {
   "cell_type": "code",
   "execution_count": null,
   "id": "2e621044-b3bd-4b52-8873-87d543dc3d95",
   "metadata": {},
   "outputs": [],
   "source": [
    "# kurslrın kunuları en çok talep edilen konuların fiaytlarıın grafiği (Web Development 1200 ,Business Finance 1199)\n",
    "sns.set_style('whitegrid')\n",
    "plt.figure(figsize=(9,5))\n",
    "WebFiyatG=df[df['Kursun konusu']=='Web Development']['Fıyat']\n",
    "BusinessFiyatG=df[df['Kursun konusu']=='Business Finance']['Fıyat']\n",
    "sns.distplot(WebFiyatG)\n",
    "sns.distplot(BusinessFiyatG)\n",
    "plt.legend([\"Web Development kursun Fiyatları \", \"Business Finance kursun Fiyatları\"])\n",
    "plt.show()"
   ]
  },
  {
   "cell_type": "code",
   "execution_count": 109,
   "id": "5b23b379-0b5a-404a-aec9-ae2e677b2557",
   "metadata": {},
   "outputs": [],
   "source": [
    "# Tekrarlanan fiyat değerleri küçükten küyüğe kadar sıralama yapan Görselleştirme Grafiği :\n",
    "df['Fıyat'].value_counts().sort_index().plot.barh()\n",
    "plt.show()"
   ]
  },
  {
   "cell_type": "code",
   "execution_count": 110,
   "id": "1c09a554-141a-44e3-85c6-7902a604ecfd",
   "metadata": {},
   "outputs": [],
   "source": [
    "#Yüksek fiyatın ortalamasına göre kurların konuların sıralama yapan  Görselleştirme grafiği:\n",
    "df.groupby(\"Kursun konusu\").Fıyat.mean().sort_values(ascending=False)[:5].plot.bar()\n",
    "plt.show()"
   ]
  },
  {
   "cell_type": "code",
   "execution_count": 111,
   "id": "ba3e07f3-89c1-4451-a695-9a6016c31bab",
   "metadata": {},
   "outputs": [
    {
     "name": "stderr",
     "output_type": "stream",
     "text": [
      "C:\\Users\\DELL\\AppData\\Local\\Programs\\Python\\Python39\\lib\\site-packages\\seaborn\\_decorators.py:36: FutureWarning: Pass the following variable as a keyword arg: x. From version 0.12, the only valid positional argument will be `data`, and passing other arguments without an explicit keyword will result in an error or misinterpretation.\n",
      "  warnings.warn(\n"
     ]
    }
   ],
   "source": [
    "# fiyatların terkrarlama sayısını gösteren Görselleştirme Grafiği:\n",
    "sns.countplot(df['Fıyat'])\n",
    "plt.show()"
   ]
  },
  {
   "cell_type": "code",
   "execution_count": 112,
   "id": "31ea74e0-0e63-4737-831a-76a1f866e29a",
   "metadata": {},
   "outputs": [],
   "source": [
    "# kursların konularında değişikliklerini sunan görselleştirme grafiği:\n",
    "sns.lineplot(data=df.drop(['Kursun konusu'], axis=1))\n",
    "plt.show()"
   ]
  },
  {
   "cell_type": "code",
   "execution_count": 113,
   "id": "361f3c63-7a4f-43c9-85de-0ebc9e4c85e7",
   "metadata": {},
   "outputs": [
    {
     "name": "stderr",
     "output_type": "stream",
     "text": [
      "C:\\Users\\DELL\\AppData\\Local\\Programs\\Python\\Python39\\lib\\site-packages\\seaborn\\distributions.py:2619: FutureWarning: `distplot` is a deprecated function and will be removed in a future version. Please adapt your code to use either `displot` (a figure-level function with similar flexibility) or `histplot` (an axes-level function for histograms).\n",
      "  warnings.warn(msg, FutureWarning)\n"
     ]
    }
   ],
   "source": [
    "# Fıyatın Yoğunluk görüdüğü yerleri Gösteren görselleştirme grafiği:\n",
    "sns.distplot(df['Fıyat'], bins=10, kde=False)\n",
    "plt.show()"
   ]
  },
  {
   "cell_type": "code",
   "execution_count": 114,
   "id": "81eef19a-1f94-4510-bbf3-c8fcc1b2e191",
   "metadata": {},
   "outputs": [
    {
     "name": "stderr",
     "output_type": "stream",
     "text": [
      "C:\\Users\\DELL\\AppData\\Local\\Programs\\Python\\Python39\\lib\\site-packages\\seaborn\\_decorators.py:36: FutureWarning: Pass the following variable as a keyword arg: x. From version 0.12, the only valid positional argument will be `data`, and passing other arguments without an explicit keyword will result in an error or misinterpretation.\n",
      "  warnings.warn(\n"
     ]
    }
   ],
   "source": [
    "#kursların konularının terkrarlama sayısını gösteren Görselleştirme Grafiği:\n",
    "sns.countplot(df['Kursun konusu'])\n",
    "plt.show()"
   ]
  },
  {
   "cell_type": "code",
   "execution_count": 117,
   "id": "d8d9dc91-a915-4240-8cbe-4f5912f7f45d",
   "metadata": {},
   "outputs": [],
   "source": [
    "#En pahali dersler icin eda\n",
    "listpahali=[]\n",
    "def pahaliAyirlma(sub):\n",
    "    for i in sub:\n",
    "        enpahali=df[df['Fıyat']==df['Fıyat'].max()][['Kurs başlığı','Fıyat','Kursun konusu']]\n",
    "        enpahaliSUB=len(enpahali[enpahali['Kursun konusu']==i])\n",
    "        listpahali.append(enpahaliSUB)\n",
    "listSub=df['Kursun konusu'].unique()\n",
    "pahaliAyirlma(listSub)\n",
    "plt.bar(listSub,listpahali)\n",
    "plt.show()"
   ]
  },
  {
   "cell_type": "code",
   "execution_count": 120,
   "id": "0318519f-6282-41cd-b91c-fd4b48721111",
   "metadata": {},
   "outputs": [],
   "source": [
    "#En ucuz dersler icin eda\n",
    "listpahali=[]\n",
    "def pahaliAyirlma(sub):\n",
    "    for i in sub:\n",
    "        enpahali=df[df['Fıyat']==df['Fıyat'].min()][['Kurs başlığı','Fıyat','Kursun konusu']]\n",
    "        enpahaliSUB=len(enpahali[enpahali['Kursun konusu']==i])\n",
    "        listpahali.append(enpahaliSUB)\n",
    "listSub=df['Kursun konusu'].unique()\n",
    "pahaliAyirlma(listSub)\n",
    "plt.bar(listSub,listpahali)\n",
    "plt.show()"
   ]
  },
  {
   "cell_type": "code",
   "execution_count": 130,
   "id": "d61673cb-17ad-4f5a-9b9b-9815e10d19d2",
   "metadata": {},
   "outputs": [
    {
     "name": "stdout",
     "output_type": "stream",
     "text": [
      "4\n",
      "['Musical Instruments' 'Business Finance' 'Graphic Design'\n",
      " 'Web Development']\n",
      "Musical Instruments'da 680 Kurs başlığı var\n",
      "Business Finance'da 1199 Kurs başlığı var\n",
      "Graphic Design'da 603 Kurs başlığı var\n",
      "Web Development'da 1200 Kurs başlığı var\n"
     ]
    }
   ],
   "source": [
    "# Kursun konusu sayisi ve adilari , her Kursun konusunda kac Kurs başlığı var, ve bu bilgilere grafik \n",
    "print(df['Kursun konusu'].nunique())\n",
    "names=df['Kursun konusu'].unique()\n",
    "print(names)\n",
    "KursSayaisi=[]\n",
    "def Ksaysi(Sub):\n",
    "    for a in Sub:\n",
    "        c=len(df[df['Kursun konusu']==a])\n",
    "        KursSayaisi.append(c)\n",
    "        print(f\"{a}'da {c} Kurs başlığı var\")\n",
    "Ksaysi(names)\n",
    "plt.pie(KursSayaisi,\n",
    "        explode=[0.03,0.03,0.03,0.03],\n",
    "        labels=names,\n",
    "        radius=1.1,\n",
    "        startangle=0,\n",
    "        colors=[\"red\",\"blue\",\"green\",\"yellow\"],\n",
    "        rotatelabels=False,autopct='%.2f')\n",
    "plt.hist(df['Kursun konusu'])\n",
    "plt.show()"
   ]
  },
  {
   "cell_type": "code",
   "execution_count": 132,
   "id": "2b3f80da-97d6-416e-81a6-e3d3ad79fee1",
   "metadata": {},
   "outputs": [
    {
     "name": "stdout",
     "output_type": "stream",
     "text": [
      "3372 Odenmis kurs var ve 310 Odenmemis kurs var\n"
     ]
    }
   ],
   "source": [
    "#Ver'de tammen kac tane odenmis ve kac tane odenmemis var ve bu bilgilere eda\n",
    "Odenmemis=len(df[df[\"Ödenmiş kurs\"]==False])\n",
    "Odenmis=len(df[df[\"Ödenmiş kurs\"]==True])\n",
    "a=[Odenmemis,Odenmis]\n",
    "print(f'{Odenmis} Odenmis kurs var ve {Odenmemis} Odenmemis kurs var')\n",
    "names=['Odenmemis','Odenmis']\n",
    "plt.pie(a,\n",
    "        explode=[0.3,0],\n",
    "        labels=names,\n",
    "        radius=1.1,\n",
    "        startangle=0,\n",
    "        colors=[\"red\",\"blue\"],\n",
    "        rotatelabels=False,\n",
    "        autopct='%.2f')\n",
    "plt.show()"
   ]
  },
  {
   "cell_type": "code",
   "execution_count": 133,
   "id": "b3a602f7-89cc-42be-ac8d-90f82fbe5b04",
   "metadata": {},
   "outputs": [
    {
     "name": "stderr",
     "output_type": "stream",
     "text": [
      "C:\\Users\\DELL\\AppData\\Local\\Temp/ipykernel_2416/3067158939.py:5: UserWarning: Boolean Series key will be reindexed to match DataFrame index.\n",
      "  T=len(df[df['Kursun konusu']==t][df['Ödenmiş kurs']==True])\n"
     ]
    }
   ],
   "source": [
    "# Bu GRAFİK, Her Kursun konusu türünde sadece ödenmiş olan kurusları göstermektedir.\n",
    "Tsaysi=[]\n",
    "def SubDurumu (sayIN):\n",
    "    for t in sayIN:\n",
    "        T=len(df[df['Kursun konusu']==t][df['Ödenmiş kurs']==True])\n",
    "        Tsaysi.append(T)\n",
    "listSub=df['Kursun konusu'].unique()\n",
    "SubDurumu(listSub)\n",
    "plt.pie(Tsaysi,\n",
    "        explode=[0.03,0.03,0.03,0.03],\n",
    "        labels=listSub,radius=1.1,\n",
    "        startangle=0,\n",
    "        colors=[\"red\",\"blue\",\"green\",\"yellow\"],\n",
    "        rotatelabels=False,autopct='%.2f')\n",
    "plt.show()"
   ]
  },
  {
   "cell_type": "code",
   "execution_count": 135,
   "id": "f69d72fd-4547-40a2-a280-8c8b4e72dfe9",
   "metadata": {},
   "outputs": [
    {
     "name": "stderr",
     "output_type": "stream",
     "text": [
      "C:\\Users\\DELL\\AppData\\Local\\Temp/ipykernel_2416/2041007370.py:5: UserWarning: Boolean Series key will be reindexed to match DataFrame index.\n",
      "  T=len(df[df['Kursun konusu']==t][df['Ödenmiş kurs']==False])\n"
     ]
    }
   ],
   "source": [
    "##Bu GRAFİK, Her Kursun konusu türünde sadece ödenmemiş olan kurusları göstermektedir. \n",
    "Fsaysi=[]\n",
    "def SubDurumu (sayIN):\n",
    "    for t in sayIN:\n",
    "        T=len(df[df['Kursun konusu']==t][df['Ödenmiş kurs']==False])\n",
    "        Fsaysi.append(T)\n",
    "listSub=df['Kursun konusu'].unique()\n",
    "SubDurumu(listSub)\n",
    "plt.pie(Fsaysi,\n",
    "        explode=[0.03,0.03,0.03,0.03],\n",
    "        labels=listSub,\n",
    "        radius=1.1,\n",
    "        startangle=0,\n",
    "        colors=[\"red\",\"blue\",\"green\",\"yellow\"],\n",
    "        rotatelabels=False,autopct='%.2f')\n",
    "\n",
    "plt.show()"
   ]
  },
  {
   "cell_type": "code",
   "execution_count": 137,
   "id": "76edce90-49f5-4fce-9937-d0c9e084151e",
   "metadata": {},
   "outputs": [
    {
     "name": "stdout",
     "output_type": "stream",
     "text": [
      "========Musical Instruments'da abone 0 saysisi:11\n",
      "========Business Finance'da abone 0 saysisi:40\n",
      "========Graphic Design'da abone 0 saysisi:19\n",
      "========Web Development'da abone 0 saysisi:0\n"
     ]
    }
   ],
   "source": [
    "# her Kursun konusu türünde kac kurs Abone sayısı=0\n",
    "sayisi=[]\n",
    "def f(lsub):\n",
    "    for i in lsub:\n",
    "        d=df[df['Obune sayısı']==0]\n",
    "        dd=len(d[d['Kursun konusu']==i])\n",
    "        sayisi.append(dd)\n",
    "        print(f\"========{i}'da abone 0 saysisi:{dd}\")\n",
    "\n",
    "listSub=df['Kursun konusu'].unique()\n",
    "f(listSub)\n",
    "plt.bar(listSub, sayisi)\n",
    "plt.show()"
   ]
  },
  {
   "cell_type": "code",
   "execution_count": 138,
   "id": "7c12c0d5-4424-4dd2-b436-5a743522e614",
   "metadata": {},
   "outputs": [
    {
     "name": "stdout",
     "output_type": "stream",
     "text": [
      "========Musical Instruments'da Görüntülme 0 saysisi:84\n",
      "========Business Finance'da Görüntülme 0 saysisi:118\n",
      "========Graphic Design'da Görüntülme 0 saysisi:84\n",
      "========Web Development'da Görüntülme 0 saysisi:5\n"
     ]
    }
   ],
   "source": [
    "# Her Kursun konusu türünde kac kurs Görüntülme Sayısı=0\n",
    "sayisi=[]\n",
    "def f(lsub):\n",
    "    for i in lsub:\n",
    "        d=df[df['Görüntülme Sayısı']==0]\n",
    "        dd=len(d[d['Kursun konusu']==i])\n",
    "        sayisi.append(dd)\n",
    "        print(f\"========{i}'da Görüntülme 0 saysisi:{dd}\")\n",
    "\n",
    "listSub=df['Kursun konusu'].unique()\n",
    "f(listSub)\n",
    "plt.bar(listSub, sayisi)\n",
    "plt.show()"
   ]
  },
  {
   "cell_type": "code",
   "execution_count": null,
   "id": "b0766f11-2123-48fa-8716-f00c4cb54524",
   "metadata": {},
   "outputs": [],
   "source": []
  }
 ],
 "metadata": {
  "kernelspec": {
   "display_name": "Python 3 (ipykernel)",
   "language": "python",
   "name": "python3"
  },
  "language_info": {
   "codemirror_mode": {
    "name": "ipython",
    "version": 3
   },
   "file_extension": ".py",
   "mimetype": "text/x-python",
   "name": "python",
   "nbconvert_exporter": "python",
   "pygments_lexer": "ipython3",
   "version": "3.9.7"
  }
 },
 "nbformat": 4,
 "nbformat_minor": 5
}
